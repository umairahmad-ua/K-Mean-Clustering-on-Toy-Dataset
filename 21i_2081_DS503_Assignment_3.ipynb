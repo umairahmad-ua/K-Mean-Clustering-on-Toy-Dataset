{
  "nbformat": 4,
  "nbformat_minor": 0,
  "metadata": {
    "colab": {
      "name": "21i-2081 DS503 Assignment 3.ipynb",
      "provenance": [],
      "collapsed_sections": []
    },
    "kernelspec": {
      "display_name": "Python 3",
      "language": "python",
      "name": "python3"
    },
    "language_info": {
      "codemirror_mode": {
        "name": "ipython",
        "version": 3
      },
      "file_extension": ".py",
      "mimetype": "text/x-python",
      "name": "python",
      "nbconvert_exporter": "python",
      "pygments_lexer": "ipython3",
      "version": "3.8.5"
    }
  },
  "cells": [
    {
      "cell_type": "markdown",
      "metadata": {
        "id": "hrGZHQMvLrwn"
      },
      "source": [
        "# Importing Libraries"
      ]
    },
    {
      "cell_type": "code",
      "metadata": {
        "id": "jgGvD6tfOb5Z"
      },
      "source": [
        "from sklearn import preprocessing\n",
        "import pandas as pd\n",
        "from sklearn.cluster import KMeans\n",
        "from sklearn.decomposition import PCA\n",
        "from sklearn.model_selection import train_test_split\n",
        "from sklearn.metrics import silhouette_score\n",
        "from yellowbrick.cluster import KElbowVisualizer\n",
        "import matplotlib.pyplot as plt\n",
        "from sklearn.preprocessing import StandardScaler"
      ],
      "execution_count": null,
      "outputs": []
    },
    {
      "cell_type": "markdown",
      "metadata": {
        "id": "yATKfX49L8LE"
      },
      "source": [
        "# Preprocessing "
      ]
    },
    {
      "cell_type": "code",
      "metadata": {
        "colab": {
          "base_uri": "https://localhost:8080/",
          "height": 195
        },
        "id": "2qJ2FJJJO21k",
        "outputId": "77756688-7579-4795-a131-df99de0d5de1"
      },
      "source": [
        "Data=pd.read_csv(\"toy_dataset.csv\")\n",
        "le_city = preprocessing.LabelEncoder()\n",
        "le_gender = preprocessing.LabelEncoder()\n",
        "le_illness = preprocessing.LabelEncoder()\n",
        "le_city.fit(Data['City'])\n",
        "le_gender.fit(Data['Gender'])\n",
        "le_illness.fit(Data['Illness'])\n",
        "Data['City']=le_city.transform(Data['City'])\n",
        "Data['Gender']=le_gender.transform(Data['Gender'])\n",
        "Data['Illness']=le_illness.transform(Data['Illness'])\n",
        "X_train, X_test = train_test_split(Data, test_size=0.20, random_state=1)\n",
        "Data=Data.sample(n=300)\n",
        "Data.head()"
      ],
      "execution_count": null,
      "outputs": [
        {
          "output_type": "execute_result",
          "data": {
            "text/html": [
              "<div>\n",
              "<style scoped>\n",
              "    .dataframe tbody tr th:only-of-type {\n",
              "        vertical-align: middle;\n",
              "    }\n",
              "\n",
              "    .dataframe tbody tr th {\n",
              "        vertical-align: top;\n",
              "    }\n",
              "\n",
              "    .dataframe thead th {\n",
              "        text-align: right;\n",
              "    }\n",
              "</style>\n",
              "<table border=\"1\" class=\"dataframe\">\n",
              "  <thead>\n",
              "    <tr style=\"text-align: right;\">\n",
              "      <th></th>\n",
              "      <th>Number</th>\n",
              "      <th>City</th>\n",
              "      <th>Gender</th>\n",
              "      <th>Age</th>\n",
              "      <th>Income</th>\n",
              "      <th>Illness</th>\n",
              "    </tr>\n",
              "  </thead>\n",
              "  <tbody>\n",
              "    <tr>\n",
              "      <th>45721</th>\n",
              "      <td>45722</td>\n",
              "      <td>5</td>\n",
              "      <td>0</td>\n",
              "      <td>63</td>\n",
              "      <td>108133.0</td>\n",
              "      <td>0</td>\n",
              "    </tr>\n",
              "    <tr>\n",
              "      <th>104563</th>\n",
              "      <td>104564</td>\n",
              "      <td>4</td>\n",
              "      <td>0</td>\n",
              "      <td>45</td>\n",
              "      <td>132571.0</td>\n",
              "      <td>0</td>\n",
              "    </tr>\n",
              "    <tr>\n",
              "      <th>12379</th>\n",
              "      <td>12380</td>\n",
              "      <td>2</td>\n",
              "      <td>1</td>\n",
              "      <td>58</td>\n",
              "      <td>47920.0</td>\n",
              "      <td>0</td>\n",
              "    </tr>\n",
              "    <tr>\n",
              "      <th>50470</th>\n",
              "      <td>50471</td>\n",
              "      <td>5</td>\n",
              "      <td>1</td>\n",
              "      <td>65</td>\n",
              "      <td>108712.0</td>\n",
              "      <td>0</td>\n",
              "    </tr>\n",
              "    <tr>\n",
              "      <th>117061</th>\n",
              "      <td>117062</td>\n",
              "      <td>1</td>\n",
              "      <td>1</td>\n",
              "      <td>52</td>\n",
              "      <td>75720.0</td>\n",
              "      <td>0</td>\n",
              "    </tr>\n",
              "  </tbody>\n",
              "</table>\n",
              "</div>"
            ],
            "text/plain": [
              "        Number  City  Gender  Age    Income  Illness\n",
              "45721    45722     5       0   63  108133.0        0\n",
              "104563  104564     4       0   45  132571.0        0\n",
              "12379    12380     2       1   58   47920.0        0\n",
              "50470    50471     5       1   65  108712.0        0\n",
              "117061  117062     1       1   52   75720.0        0"
            ]
          },
          "metadata": {
            "tags": []
          },
          "execution_count": 21
        }
      ]
    },
    {
      "cell_type": "markdown",
      "metadata": {
        "id": "gAbskbCHMArE"
      },
      "source": [
        "# Elbow Visualization (elbow criterion)"
      ]
    },
    {
      "cell_type": "code",
      "metadata": {
        "colab": {
          "base_uri": "https://localhost:8080/",
          "height": 376
        },
        "id": "i3Y5bB3Ke5cX",
        "outputId": "6ce95bca-0824-4d7a-b45d-3a72d358c5a7"
      },
      "source": [
        "model = KMeans(random_state=0) \n",
        "visualizer = KElbowVisualizer(model, k=(2,10), metric='distortion')\n",
        "visualizer.fit(Data)    \n",
        "visualizer.poof()"
      ],
      "execution_count": null,
      "outputs": [
        {
          "output_type": "display_data",
          "data": {
            "image/png": "[encoded data removed]",
            "text/plain": [
              "<Figure size 576x396 with 2 Axes>"
            ]
          },
          "metadata": {
            "tags": []
          }
        },
        {
          "output_type": "execute_result",
          "data": {
            "text/plain": [
              "<AxesSubplot:title={'center':'Distortion Score Elbow for KMeans Clustering'}, xlabel='k', ylabel='distortion score'>"
            ]
          },
          "metadata": {
            "tags": []
          },
          "execution_count": 3
        }
      ]
    },
    {
      "cell_type": "markdown",
      "metadata": {
        "id": "xvJElxC_MOZn"
      },
      "source": [
        "# Silhouette Score Calculation on first 10 values of K on Training Set"
      ]
    },
    {
      "cell_type": "code",
      "metadata": {
        "colab": {
          "base_uri": "https://localhost:8080/"
        },
        "id": "laODrsPLFNOb",
        "outputId": "57d1884b-95fd-416c-9388-0f046e4d0862"
      },
      "source": [
        "score=[]\n",
        "for x in range(2,9):\n",
        "        kmeans = KMeans(n_clusters=x, random_state=0).fit(X_train)\n",
        "        temp=silhouette_score(X_train, kmeans.labels_,metric='euclidean')\n",
        "        score.append(temp)\n",
        "        print(\"Score of cluster \"+str(x)+\"=\"+str(temp))"
      ],
      "execution_count": null,
      "outputs": [
        {
          "output_type": "stream",
          "text": [
            "Score of cluster 2=0.49183015984980355\n",
            "Score of cluster 3=0.5023105543057783\n",
            "Score of cluster 4=0.48785828518482205\n",
            "Score of cluster 5=0.5335976004645319\n",
            "Score of cluster 6=0.4849179968280261\n",
            "Score of cluster 7=0.4564008215030967\n",
            "Score of cluster 8=0.44586407370608433\n"
          ],
          "name": "stdout"
        }
      ]
    },
    {
      "cell_type": "markdown",
      "metadata": {
        "id": "vSDExF_5MkYt"
      },
      "source": [
        "# Silhouette Score Calculation on first 10 values of K on Testing Set"
      ]
    },
    {
      "cell_type": "code",
      "metadata": {
        "colab": {
          "base_uri": "https://localhost:8080/"
        },
        "id": "g8INo-25f9Qn",
        "outputId": "26a9da9d-3ff6-4f42-dc37-64f8d390bca6"
      },
      "source": [
        "score=[]\n",
        "for x in range(2,9):\n",
        "        kmeans = KMeans(n_clusters=x, random_state=0).fit(X_test)\n",
        "        temp=silhouette_score(X_test, kmeans.labels_,metric='euclidean')\n",
        "        score.append(temp)\n",
        "        print(\"Score of cluster \"+str(x)+\"=\"+str(temp))"
      ],
      "execution_count": null,
      "outputs": [
        {
          "output_type": "stream",
          "text": [
            "Score of cluster 2=0.4909682278009037\n",
            "Score of cluster 3=0.5017001533495836\n",
            "Score of cluster 4=0.48909080225605445\n",
            "Score of cluster 5=0.5323599307400898\n",
            "Score of cluster 6=0.4859552062544447\n",
            "Score of cluster 7=0.4558763968344202\n",
            "Score of cluster 8=0.45124752263901297\n"
          ],
          "name": "stdout"
        }
      ]
    },
    {
      "cell_type": "markdown",
      "metadata": {
        "id": "xv8Mc3eiMoxx"
      },
      "source": [
        "# 2D Visualization Using PCS on Training Data"
      ]
    },
    {
      "cell_type": "code",
      "metadata": {
        "colab": {
          "base_uri": "https://localhost:8080/",
          "height": 265
        },
        "id": "fszkpoOdefT-",
        "outputId": "1a20198c-8ec9-45aa-9270-ffb1c4b2a0df"
      },
      "source": [
        "pca = PCA(2)\n",
        "df = pca.fit_transform(X_train)\n",
        "kmeans = KMeans(n_clusters= 5)\n",
        "label = kmeans.fit_predict(df)\n",
        "centroids = kmeans.cluster_centers_\n",
        "filtered_label0 = df[label == 0]\n",
        "filtered_label1 = df[label == 1]\n",
        "filtered_label2 = df[label == 2]\n",
        "filtered_label3 = df[label == 3]\n",
        "filtered_label4 = df[label == 4]\n",
        "plt.scatter(filtered_label0[:,0] , filtered_label0[:,1] , color = 'red')\n",
        "plt.scatter(filtered_label1[:,0] , filtered_label1[:,1] , color = 'yellow')\n",
        "plt.scatter(filtered_label2[:,0] , filtered_label2[:,1] , color = 'blue')\n",
        "plt.scatter(filtered_label3[:,0] , filtered_label3[:,1] , color = 'green')\n",
        "plt.scatter(filtered_label4[:,0] , filtered_label4[:,1] , color = 'black')\n",
        "plt.scatter(centroids[:,0] , centroids[:,1] , s = 200, color = 'orange')\n",
        "plt.show()"
      ],
      "execution_count": null,
      "outputs": [
        {
          "output_type": "display_data",
          "data": {
            "image/png": "[encoded data removed]",
            "text/plain": [
              "<Figure size 432x288 with 1 Axes>"
            ]
          },
          "metadata": {
            "tags": [],
            "needs_background": "light"
          }
        }
      ]
    },
    {
      "cell_type": "markdown",
      "metadata": {
        "id": "-RwI6iMFMxo-"
      },
      "source": [
        "# 2D Visualization Using PCS on Test Data"
      ]
    },
    {
      "cell_type": "code",
      "metadata": {
        "colab": {
          "base_uri": "https://localhost:8080/",
          "height": 265
        },
        "id": "Dc_Hmg6ij2P8",
        "outputId": "a9683c33-2de6-427e-8a10-78456afe4926"
      },
      "source": [
        "pca = PCA(2)\n",
        "df = pca.fit_transform(X_test)\n",
        "kmeans = KMeans(n_clusters= 5)\n",
        "label = kmeans.fit_predict(df)\n",
        "centroids = kmeans.cluster_centers_\n",
        "filtered_label0 = df[label == 0]\n",
        "filtered_label1 = df[label == 1]\n",
        "filtered_label2 = df[label == 2]\n",
        "filtered_label3 = df[label == 3]\n",
        "filtered_label4 = df[label == 4]\n",
        "plt.scatter(filtered_label0[:,0] , filtered_label0[:,1] , color = 'red')\n",
        "plt.scatter(filtered_label1[:,0] , filtered_label1[:,1] , color = 'yellow')\n",
        "plt.scatter(filtered_label2[:,0] , filtered_label2[:,1] , color = 'blue')\n",
        "plt.scatter(filtered_label3[:,0] , filtered_label3[:,1] , color = 'green')\n",
        "plt.scatter(filtered_label4[:,0] , filtered_label4[:,1] , color = 'black')\n",
        "plt.scatter(centroids[:,0] , centroids[:,1] , s = 200, color = 'orange')\n",
        "plt.show()"
      ],
      "execution_count": null,
      "outputs": [
        {
          "output_type": "display_data",
          "data": {
            "image/png": "[encoded data removed]",
            "text/plain": [
              "<Figure size 432x288 with 1 Axes>"
            ]
          },
          "metadata": {
            "tags": [],
            "needs_background": "light"
          }
        }
      ]
    },
    {
      "cell_type": "markdown",
      "metadata": {
        "id": "sTlse-WQM1rU"
      },
      "source": [
        "# Improvements for model accuracy \n",
        "\n",
        "\n",
        "1.   Remove the First column Numbers because it wont have any impact on Data\n",
        "2.   Scale the dataset because all the column values are less than 100 except income\n",
        "\n"
      ]
    },
    {
      "cell_type": "code",
      "metadata": {
        "id": "89MeqdP8Pqqc",
        "colab": {
          "base_uri": "https://localhost:8080/"
        },
        "outputId": "4f3caf0f-2d9e-44fa-a3d9-7d64223e652f"
      },
      "source": [
        "Data=pd.read_csv(\"toy_dataset.csv\")\n",
        "del Data[\"Number\"]\n",
        "le_city = preprocessing.LabelEncoder()\n",
        "le_gender = preprocessing.LabelEncoder()\n",
        "le_illness = preprocessing.LabelEncoder()\n",
        "le_city.fit(Data['City'])\n",
        "le_gender.fit(Data['Gender'])\n",
        "le_illness.fit(Data['Illness'])\n",
        "Data['City']=le_city.transform(Data['City'])\n",
        "Data['Gender']=le_gender.transform(Data['Gender'])\n",
        "Data['Illness']=le_illness.transform(Data['Illness'])\n",
        "Data=Data.sample(n =200)\n",
        "scaler = StandardScaler()\n",
        "scaler.fit(Data)\n",
        "Data=scaler.transform(Data)\n",
        "Data"
      ],
      "execution_count": null,
      "outputs": [
        {
          "output_type": "execute_result",
          "data": {
            "text/plain": [
              "array([[ 8.28829301e-01, -1.12815215e+00, -9.06537098e-01,\n",
              "        -2.62515818e-02,  3.28096112e+00],\n",
              "       [-7.10791692e-01,  8.86405260e-01, -3.17603485e-01,\n",
              "        -1.64749122e+00, -3.04788738e-01],\n",
              "       [-1.97584694e-01, -1.12815215e+00,  2.71330129e-01,\n",
              "        -4.79243037e-01, -3.04788738e-01],\n",
              "       [ 8.28829301e-01, -1.12815215e+00,  1.11266386e+00,\n",
              "        -9.07269629e-01, -3.04788738e-01],\n",
              "       [ 8.28829301e-01, -1.12815215e+00, -1.57960409e+00,\n",
              "         3.73812575e-01, -3.04788738e-01],\n",
              "       [-1.73720569e+00, -1.12815215e+00, -8.22403725e-01,\n",
              "        -4.85864541e-01, -3.04788738e-01],\n",
              "       [ 1.34203630e+00,  8.86405260e-01, -6.54136978e-01,\n",
              "         9.92565348e-01, -3.04788738e-01],\n",
              "       [ 8.28829301e-01, -1.12815215e+00, -9.90670472e-01,\n",
              "         2.52701675e-01, -3.04788738e-01],\n",
              "       [ 8.28829301e-01,  8.86405260e-01, -7.38270352e-01,\n",
              "        -2.89008996e-01,  3.28096112e+00],\n",
              "       [ 8.28829301e-01, -1.12815215e+00, -9.06537098e-01,\n",
              "         5.17069725e-01, -3.04788738e-01],\n",
              "       [ 8.28829301e-01,  8.86405260e-01, -1.32720397e+00,\n",
              "        -6.83446663e-03, -3.04788738e-01],\n",
              "       [-7.10791692e-01,  8.86405260e-01, -1.15893722e+00,\n",
              "        -1.68578857e+00, -3.04788738e-01],\n",
              "       [-1.73720569e+00,  8.86405260e-01,  1.11266386e+00,\n",
              "         1.30919676e-01,  3.28096112e+00],\n",
              "       [ 3.15622304e-01, -1.12815215e+00,  7.76130370e-01,\n",
              "         1.27697687e+00, -3.04788738e-01],\n",
              "       [-7.10791692e-01,  8.86405260e-01, -4.01736858e-01,\n",
              "        -1.72802304e+00, -3.04788738e-01],\n",
              "       [ 8.28829301e-01, -1.12815215e+00,  1.28093061e+00,\n",
              "        -8.12369150e-02, -3.04788738e-01],\n",
              "       [-1.73720569e+00,  8.86405260e-01,  2.71330129e-01,\n",
              "         3.66341012e-01, -3.04788738e-01],\n",
              "       [ 8.28829301e-01, -1.12815215e+00, -4.85870231e-01,\n",
              "        -1.07409755e-01, -3.04788738e-01],\n",
              "       [ 8.28829301e-01,  8.86405260e-01, -1.66373746e+00,\n",
              "         1.14060967e+00, -3.04788738e-01],\n",
              "       [ 8.28829301e-01,  8.86405260e-01,  4.39596876e-01,\n",
              "         1.14589613e-01, -3.04788738e-01],\n",
              "       [ 8.28829301e-01, -1.12815215e+00, -8.22403725e-01,\n",
              "        -1.99752902e-01, -3.04788738e-01],\n",
              "       [ 8.28829301e-01, -1.12815215e+00, -7.38270352e-01,\n",
              "         3.03391978e-01, -3.04788738e-01],\n",
              "       [-7.10791692e-01,  8.86405260e-01,  1.11266386e+00,\n",
              "        -1.79088259e+00, -3.04788738e-01],\n",
              "       [-1.97584694e-01, -1.12815215e+00,  1.53333073e+00,\n",
              "        -2.99030733e-01, -3.04788738e-01],\n",
              "       [-1.73720569e+00, -1.12815215e+00,  5.23730249e-01,\n",
              "         4.29162986e-02, -3.04788738e-01],\n",
              "       [-1.73720569e+00,  8.86405260e-01,  1.53333073e+00,\n",
              "         6.60461094e-01, -3.04788738e-01],\n",
              "       [ 8.28829301e-01, -1.12815215e+00,  1.53333073e+00,\n",
              "         3.48758233e-01, -3.04788738e-01],\n",
              "       [-1.73720569e+00, -1.12815215e+00, -1.41133734e+00,\n",
              "        -2.98225414e-01, -3.04788738e-01],\n",
              "       [ 8.28829301e-01, -1.12815215e+00,  1.36506398e+00,\n",
              "        -5.54585023e-01, -3.04788738e-01],\n",
              "       [ 8.28829301e-01,  8.86405260e-01,  1.44919736e+00,\n",
              "         6.29143166e-01, -3.04788738e-01],\n",
              "       [-1.73720569e+00, -1.12815215e+00,  1.02853049e+00,\n",
              "         4.34435135e-01, -3.04788738e-01],\n",
              "       [ 8.28829301e-01,  8.86405260e-01, -6.52033644e-02,\n",
              "        -1.91744460e-01, -3.04788738e-01],\n",
              "       [-7.10791692e-01,  8.86405260e-01, -1.07480385e+00,\n",
              "        -2.24467936e+00, -3.04788738e-01],\n",
              "       [-7.10791692e-01,  8.86405260e-01,  9.44397116e-01,\n",
              "        -2.11166765e+00, -3.04788738e-01],\n",
              "       [-1.73720569e+00,  8.86405260e-01, -6.52033644e-02,\n",
              "         9.08499082e-01, -3.04788738e-01],\n",
              "       [ 1.85524330e+00,  8.86405260e-01, -5.70003605e-01,\n",
              "        -1.32165055e+00, -3.04788738e-01],\n",
              "       [ 8.28829301e-01,  8.86405260e-01, -1.57960409e+00,\n",
              "         9.67383944e-02,  3.28096112e+00],\n",
              "       [ 1.34203630e+00, -1.12815215e+00,  2.71330129e-01,\n",
              "         4.19178831e-01, -3.04788738e-01],\n",
              "       [-7.10791692e-01,  8.86405260e-01,  7.76130370e-01,\n",
              "        -2.65651011e+00, -3.04788738e-01],\n",
              "       [-1.73720569e+00, -1.12815215e+00,  9.44397116e-01,\n",
              "        -1.52910230e-01, -3.04788738e-01],\n",
              "       [-1.22399869e+00, -1.12815215e+00,  1.36506398e+00,\n",
              "        -1.44141210e-01, -3.04788738e-01],\n",
              "       [-1.22399869e+00,  8.86405260e-01,  1.53333073e+00,\n",
              "        -7.50456291e-01, -3.04788738e-01],\n",
              "       [ 8.28829301e-01, -1.12815215e+00,  1.61746410e+00,\n",
              "         4.49109821e-01, -3.04788738e-01],\n",
              "       [ 8.28829301e-01,  8.86405260e-01, -1.57960409e+00,\n",
              "         1.33048579e+00, -3.04788738e-01],\n",
              "       [-1.97584694e-01,  8.86405260e-01,  1.02853049e+00,\n",
              "        -1.35103751e-01, -3.04788738e-01],\n",
              "       [-1.97584694e-01,  8.86405260e-01,  1.36506398e+00,\n",
              "         6.28024669e-01, -3.04788738e-01],\n",
              "       [-7.10791692e-01, -1.12815215e+00,  7.76130370e-01,\n",
              "        -2.33031153e+00, -3.04788738e-01],\n",
              "       [-7.10791692e-01,  8.86405260e-01,  5.23730249e-01,\n",
              "        -1.79584872e+00, -3.04788738e-01],\n",
              "       [ 8.28829301e-01,  8.86405260e-01,  1.02853049e+00,\n",
              "         1.15305452e-01, -3.04788738e-01],\n",
              "       [ 8.28829301e-01,  8.86405260e-01, -1.66373746e+00,\n",
              "        -2.24934305e-02,  3.28096112e+00],\n",
              "       [-1.97584694e-01, -1.12815215e+00,  1.61746410e+00,\n",
              "        -3.91597579e-01, -3.04788738e-01],\n",
              "       [-7.10791692e-01,  8.86405260e-01, -1.32720397e+00,\n",
              "        -7.68933868e-01, -3.04788738e-01],\n",
              "       [-7.10791692e-01, -1.12815215e+00, -1.41133734e+00,\n",
              "        -1.92062829e+00, -3.04788738e-01],\n",
              "       [ 3.15622304e-01,  8.86405260e-01, -5.70003605e-01,\n",
              "         1.60742575e+00, -3.04788738e-01],\n",
              "       [ 8.28829301e-01,  8.86405260e-01, -4.01736858e-01,\n",
              "         5.60601644e-01, -3.04788738e-01],\n",
              "       [ 8.28829301e-01, -1.12815215e+00, -1.07480385e+00,\n",
              "        -2.30936610e-01, -3.04788738e-01],\n",
              "       [-1.22399869e+00,  8.86405260e-01,  9.44397116e-01,\n",
              "        -1.62931967e-01,  3.28096112e+00],\n",
              "       [-1.73720569e+00,  8.86405260e-01, -8.22403725e-01,\n",
              "         5.04900473e-01, -3.04788738e-01],\n",
              "       [-1.97584694e-01,  8.86405260e-01,  3.55463503e-01,\n",
              "         1.38913979e+00, -3.04788738e-01],\n",
              "       [-1.97584694e-01, -1.12815215e+00, -8.22403725e-01,\n",
              "        -1.10854727e-01, -3.04788738e-01],\n",
              "       [-1.97584694e-01, -1.12815215e+00,  1.11266386e+00,\n",
              "         1.82907436e-01, -3.04788738e-01],\n",
              "       [ 8.28829301e-01, -1.12815215e+00, -1.49547071e+00,\n",
              "         4.51615256e-01, -3.04788738e-01],\n",
              "       [-1.22399869e+00, -1.12815215e+00,  1.53333073e+00,\n",
              "         2.61202255e-01, -3.04788738e-01],\n",
              "       [-1.22399869e+00,  8.86405260e-01, -1.24307059e+00,\n",
              "        -3.77944752e-02,  3.28096112e+00],\n",
              "       [-7.10791692e-01, -1.12815215e+00,  1.89300090e-02,\n",
              "        -2.12866881e+00, -3.04788738e-01],\n",
              "       [ 3.15622304e-01,  8.86405260e-01, -2.33470111e-01,\n",
              "         2.15146289e+00, -3.04788738e-01],\n",
              "       [ 3.15622304e-01, -1.12815215e+00, -9.06537098e-01,\n",
              "         1.57136539e+00, -3.04788738e-01],\n",
              "       [-1.97584694e-01,  8.86405260e-01,  1.19679724e+00,\n",
              "         1.12034249e+00, -3.04788738e-01],\n",
              "       [ 8.28829301e-01,  8.86405260e-01, -6.52033644e-02,\n",
              "         1.08370768e-01, -3.04788738e-01],\n",
              "       [ 8.28829301e-01,  8.86405260e-01, -2.33470111e-01,\n",
              "         3.59368747e-02, -3.04788738e-01],\n",
              "       [-1.97584694e-01,  8.86405260e-01,  1.03063382e-01,\n",
              "         1.88634142e-01,  3.28096112e+00],\n",
              "       [ 8.28829301e-01,  8.86405260e-01, -4.01736858e-01,\n",
              "        -7.89104403e-02, -3.04788738e-01],\n",
              "       [-1.73720569e+00, -1.12815215e+00,  1.28093061e+00,\n",
              "        -1.96531629e-01, -3.04788738e-01],\n",
              "       [ 8.28829301e-01,  8.86405260e-01, -2.33470111e-01,\n",
              "         2.03979927e-01, -3.04788738e-01],\n",
              "       [-1.73720569e+00, -1.12815215e+00, -4.85870231e-01,\n",
              "        -1.07549164e+00,  3.28096112e+00],\n",
              "       [ 1.34203630e+00,  8.86405260e-01,  9.44397116e-01,\n",
              "         1.55167984e+00, -3.04788738e-01],\n",
              "       [ 1.85524330e+00,  8.86405260e-01,  5.23730249e-01,\n",
              "        -7.15335472e-01, -3.04788738e-01],\n",
              "       [ 3.15622304e-01,  8.86405260e-01,  8.60263743e-01,\n",
              "         1.76110729e+00, -3.04788738e-01],\n",
              "       [-1.97584694e-01, -1.12815215e+00, -4.85870231e-01,\n",
              "         4.92239082e-01, -3.04788738e-01],\n",
              "       [ 8.28829301e-01,  8.86405260e-01,  5.23730249e-01,\n",
              "        -2.92006569e-01, -3.04788738e-01],\n",
              "       [-1.97584694e-01,  8.86405260e-01,  1.11266386e+00,\n",
              "        -3.75893875e-01, -3.04788738e-01],\n",
              "       [ 8.28829301e-01, -1.12815215e+00, -1.57960409e+00,\n",
              "        -9.84170353e-02, -3.04788738e-01],\n",
              "       [-7.10791692e-01,  8.86405260e-01,  1.36506398e+00,\n",
              "        -1.51667176e+00, -3.04788738e-01],\n",
              "       [-1.73720569e+00, -1.12815215e+00, -9.90670472e-01,\n",
              "        -1.03594157e+00, -3.04788738e-01],\n",
              "       [-1.22399869e+00, -1.12815215e+00,  7.76130370e-01,\n",
              "         1.88723622e-01, -3.04788738e-01],\n",
              "       [-1.22399869e+00, -1.12815215e+00,  1.87196756e-01,\n",
              "         3.73141477e-01, -3.04788738e-01],\n",
              "       [ 3.15622304e-01, -1.12815215e+00, -7.38270352e-01,\n",
              "         1.88875022e+00, -3.04788738e-01],\n",
              "       [ 3.15622304e-01, -1.12815215e+00, -2.33470111e-01,\n",
              "         1.31223191e+00, -3.04788738e-01],\n",
              "       [-7.10791692e-01,  8.86405260e-01, -1.32720397e+00,\n",
              "        -1.82926942e+00, -3.04788738e-01],\n",
              "       [-7.10791692e-01,  8.86405260e-01, -6.52033644e-02,\n",
              "        -1.80117277e+00, -3.04788738e-01],\n",
              "       [ 3.15622304e-01, -1.12815215e+00, -1.32720397e+00,\n",
              "         2.20398753e+00, -3.04788738e-01],\n",
              "       [-1.97584694e-01, -1.12815215e+00, -1.49336738e-01,\n",
              "         4.88123011e-01, -3.04788738e-01],\n",
              "       [-1.22399869e+00, -1.12815215e+00, -1.07480385e+00,\n",
              "        -1.37691506e-02, -3.04788738e-01],\n",
              "       [-1.97584694e-01,  8.86405260e-01, -1.49336738e-01,\n",
              "         8.37273166e-01, -3.04788738e-01],\n",
              "       [ 1.85524330e+00,  8.86405260e-01,  2.71330129e-01,\n",
              "         2.56146647e-01, -3.04788738e-01],\n",
              "       [ 8.28829301e-01, -1.12815215e+00,  1.36506398e+00,\n",
              "         1.87918304e-01, -3.04788738e-01],\n",
              "       [-1.73720569e+00, -1.12815215e+00, -6.54136978e-01,\n",
              "        -3.20326923e-01, -3.04788738e-01],\n",
              "       [-1.22399869e+00,  8.86405260e-01,  1.44919736e+00,\n",
              "         7.51014645e-01, -3.04788738e-01],\n",
              "       [ 8.28829301e-01, -1.12815215e+00,  1.87196756e-01,\n",
              "         1.26535166e-01, -3.04788738e-01],\n",
              "       [-1.73720569e+00, -1.12815215e+00,  8.60263743e-01,\n",
              "         6.37096130e-04, -3.04788738e-01],\n",
              "       [-7.10791692e-01,  8.86405260e-01,  3.55463503e-01,\n",
              "        -1.91154609e+00, -3.04788738e-01],\n",
              "       [ 8.28829301e-01,  8.86405260e-01,  6.07863623e-01,\n",
              "         8.59598374e-01, -3.04788738e-01],\n",
              "       [ 3.15622304e-01,  8.86405260e-01, -1.74787083e+00,\n",
              "         1.96360007e+00, -3.04788738e-01],\n",
              "       [ 3.15622304e-01,  8.86405260e-01,  1.87196756e-01,\n",
              "         2.88810529e+00, -3.04788738e-01],\n",
              "       [ 8.28829301e-01,  8.86405260e-01,  1.89300090e-02,\n",
              "         1.00540570e+00, -3.04788738e-01],\n",
              "       [-7.10791692e-01, -1.12815215e+00,  1.02853049e+00,\n",
              "        -1.94729327e+00, -3.04788738e-01],\n",
              "       [ 1.34203630e+00, -1.12815215e+00,  1.61746410e+00,\n",
              "         5.12058856e-01, -3.04788738e-01],\n",
              "       [-7.10791692e-01, -1.12815215e+00,  1.02853049e+00,\n",
              "        -1.35999264e+00, -3.04788738e-01],\n",
              "       [-7.10791692e-01,  8.86405260e-01,  6.07863623e-01,\n",
              "        -1.63397977e+00, -3.04788738e-01],\n",
              "       [-1.73720569e+00,  8.86405260e-01, -2.33470111e-01,\n",
              "         5.83418992e-01, -3.04788738e-01],\n",
              "       [-7.10791692e-01,  8.86405260e-01,  1.28093061e+00,\n",
              "        -1.43309764e+00, -3.04788738e-01],\n",
              "       [ 8.28829301e-01,  8.86405260e-01, -2.33470111e-01,\n",
              "         4.82709484e-01, -3.04788738e-01],\n",
              "       [-1.97584694e-01,  8.86405260e-01, -2.33470111e-01,\n",
              "         1.09510919e+00, -3.04788738e-01],\n",
              "       [ 8.28829301e-01,  8.86405260e-01,  2.71330129e-01,\n",
              "         5.22751692e-01, -3.04788738e-01],\n",
              "       [-7.10791692e-01,  8.86405260e-01, -5.70003605e-01,\n",
              "        -1.44468527e+00, -3.04788738e-01],\n",
              "       [ 8.28829301e-01,  8.86405260e-01,  1.53333073e+00,\n",
              "         2.46080170e-01, -3.04788738e-01],\n",
              "       [ 8.28829301e-01, -1.12815215e+00,  1.89300090e-02,\n",
              "         4.69913873e-01, -3.04788738e-01],\n",
              "       [ 1.85524330e+00, -1.12815215e+00, -3.17603485e-01,\n",
              "        -5.48052998e-01, -3.04788738e-01],\n",
              "       [ 8.28829301e-01, -1.12815215e+00,  6.07863623e-01,\n",
              "         7.10435559e-01, -3.04788738e-01],\n",
              "       [ 8.28829301e-01, -1.12815215e+00, -1.49547071e+00,\n",
              "         5.12819434e-01, -3.04788738e-01],\n",
              "       [-1.97584694e-01, -1.12815215e+00, -1.66373746e+00,\n",
              "        -4.07301283e-01, -3.04788738e-01],\n",
              "       [ 3.15622304e-01,  8.86405260e-01, -5.70003605e-01,\n",
              "         1.87255438e+00, -3.04788738e-01],\n",
              "       [ 8.28829301e-01, -1.12815215e+00, -1.66373746e+00,\n",
              "        -2.01050359e-01, -3.04788738e-01],\n",
              "       [-1.73720569e+00, -1.12815215e+00,  3.55463503e-01,\n",
              "        -3.14414099e-02, -3.04788738e-01],\n",
              "       [-1.22399869e+00,  8.86405260e-01,  2.71330129e-01,\n",
              "         7.22962730e-01, -3.04788738e-01],\n",
              "       [-1.97584694e-01,  8.86405260e-01, -9.90670472e-01,\n",
              "         7.33610825e-01, -3.04788738e-01],\n",
              "       [-7.10791692e-01, -1.12815215e+00,  6.07863623e-01,\n",
              "        -1.70990338e+00, -3.04788738e-01],\n",
              "       [ 8.28829301e-01,  8.86405260e-01,  1.53333073e+00,\n",
              "         2.13151606e-01,  3.28096112e+00],\n",
              "       [-1.97584694e-01, -1.12815215e+00,  1.36506398e+00,\n",
              "        -6.85762400e-01, -3.04788738e-01],\n",
              "       [ 8.28829301e-01, -1.12815215e+00, -4.85870231e-01,\n",
              "         2.26394615e-01, -3.04788738e-01],\n",
              "       [ 3.15622304e-01,  8.86405260e-01,  1.11266386e+00,\n",
              "         2.38961336e+00, -3.04788738e-01],\n",
              "       [ 8.28829301e-01, -1.12815215e+00, -8.22403725e-01,\n",
              "        -5.48097738e-01, -3.04788738e-01],\n",
              "       [ 8.28829301e-01,  8.86405260e-01,  1.28093061e+00,\n",
              "         9.43485681e-01, -3.04788738e-01],\n",
              "       [-7.10791692e-01,  8.86405260e-01,  5.23730249e-01,\n",
              "        -1.56852530e+00, -3.04788738e-01],\n",
              "       [ 8.28829301e-01,  8.86405260e-01, -1.15893722e+00,\n",
              "         2.34268837e-01, -3.04788738e-01],\n",
              "       [-1.22399869e+00, -1.12815215e+00, -1.57960409e+00,\n",
              "        -8.11615730e-01, -3.04788738e-01],\n",
              "       [ 8.28829301e-01,  8.86405260e-01, -1.49336738e-01,\n",
              "         2.13285826e-01, -3.04788738e-01],\n",
              "       [ 8.28829301e-01, -1.12815215e+00,  2.71330129e-01,\n",
              "        -2.22257070e-01, -3.04788738e-01],\n",
              "       [ 8.28829301e-01,  8.86405260e-01,  5.23730249e-01,\n",
              "         1.74451595e-01, -3.04788738e-01],\n",
              "       [-1.22399869e+00,  8.86405260e-01,  1.89300090e-02,\n",
              "         1.66577373e-01,  3.28096112e+00],\n",
              "       [-1.73720569e+00, -1.12815215e+00,  6.07863623e-01,\n",
              "         1.76733330e-01, -3.04788738e-01],\n",
              "       [-1.97584694e-01,  8.86405260e-01,  1.19679724e+00,\n",
              "         2.27378893e-01, -3.04788738e-01],\n",
              "       [-1.97584694e-01,  8.86405260e-01,  1.44919736e+00,\n",
              "         7.90430494e-01, -3.04788738e-01],\n",
              "       [-1.73720569e+00,  8.86405260e-01, -4.85870231e-01,\n",
              "        -7.09019988e-02, -3.04788738e-01],\n",
              "       [-1.97584694e-01, -1.12815215e+00,  5.23730249e-01,\n",
              "        -5.87155668e-01, -3.04788738e-01],\n",
              "       [ 1.85524330e+00,  8.86405260e-01, -6.52033644e-02,\n",
              "        -9.10356682e-01, -3.04788738e-01],\n",
              "       [ 1.85524330e+00, -1.12815215e+00, -1.32720397e+00,\n",
              "        -1.60525676e+00, -3.04788738e-01],\n",
              "       [-1.97584694e-01, -1.12815215e+00,  1.53333073e+00,\n",
              "         5.74828931e-01, -3.04788738e-01],\n",
              "       [-1.97584694e-01, -1.12815215e+00, -1.57960409e+00,\n",
              "        -5.29620161e-01, -3.04788738e-01],\n",
              "       [ 8.28829301e-01,  8.86405260e-01, -1.41133734e+00,\n",
              "         5.89727317e-01, -3.04788738e-01],\n",
              "       [-1.97584694e-01,  8.86405260e-01, -1.49547071e+00,\n",
              "         9.69211122e-01, -3.04788738e-01],\n",
              "       [-1.97584694e-01,  8.86405260e-01,  1.61746410e+00,\n",
              "        -3.71777805e-01,  3.28096112e+00],\n",
              "       [ 3.15622304e-01, -1.12815215e+00,  1.61746410e+00,\n",
              "         2.23208419e+00, -3.04788738e-01],\n",
              "       [ 1.34203630e+00,  8.86405260e-01,  1.89300090e-02,\n",
              "         2.91714865e-01, -3.04788738e-01],\n",
              "       [-1.97584694e-01,  8.86405260e-01, -1.66373746e+00,\n",
              "         4.87765092e-01, -3.04788738e-01],\n",
              "       [-7.10791692e-01,  8.86405260e-01,  1.61746410e+00,\n",
              "        -9.39213916e-01, -3.04788738e-01],\n",
              "       [ 1.85524330e+00,  8.86405260e-01,  7.76130370e-01,\n",
              "        -8.09378735e-01, -3.04788738e-01],\n",
              "       [-1.97584694e-01,  8.86405260e-01,  1.61746410e+00,\n",
              "         8.07476395e-01, -3.04788738e-01],\n",
              "       [ 8.28829301e-01,  8.86405260e-01, -4.85870231e-01,\n",
              "        -2.41137306e-01, -3.04788738e-01],\n",
              "       [ 8.28829301e-01, -1.12815215e+00, -1.49336738e-01,\n",
              "         3.93363910e-01, -3.04788738e-01],\n",
              "       [ 8.28829301e-01, -1.12815215e+00,  2.71330129e-01,\n",
              "         8.71007048e-01,  3.28096112e+00],\n",
              "       [-1.97584694e-01,  8.86405260e-01,  2.71330129e-01,\n",
              "        -2.23465047e-01, -3.04788738e-01],\n",
              "       [-1.73720569e+00, -1.12815215e+00, -2.33470111e-01,\n",
              "        -5.53108606e-01, -3.04788738e-01],\n",
              "       [-7.10791692e-01,  8.86405260e-01,  8.60263743e-01,\n",
              "        -1.04739499e+00, -3.04788738e-01],\n",
              "       [ 8.28829301e-01,  8.86405260e-01, -1.41133734e+00,\n",
              "         8.85771214e-01,  3.28096112e+00],\n",
              "       [-1.97584694e-01,  8.86405260e-01,  6.07863623e-01,\n",
              "         1.97582122e-01, -3.04788738e-01],\n",
              "       [ 1.85524330e+00,  8.86405260e-01,  1.11266386e+00,\n",
              "        -6.48046667e-01,  3.28096112e+00],\n",
              "       [ 8.28829301e-01,  8.86405260e-01,  6.91996996e-01,\n",
              "        -8.22659326e-02, -3.04788738e-01],\n",
              "       [-1.97584694e-01,  8.86405260e-01, -5.70003605e-01,\n",
              "         1.06924953e+00, -3.04788738e-01],\n",
              "       [-7.10791692e-01, -1.12815215e+00,  3.55463503e-01,\n",
              "        -1.83499613e+00, -3.04788738e-01],\n",
              "       [ 8.28829301e-01,  8.86405260e-01, -9.06537098e-01,\n",
              "        -1.09467790e-01, -3.04788738e-01],\n",
              "       [ 8.28829301e-01,  8.86405260e-01, -9.90670472e-01,\n",
              "        -2.28207476e-01, -3.04788738e-01],\n",
              "       [-1.73720569e+00,  8.86405260e-01,  1.87196756e-01,\n",
              "         1.48815634e-01, -3.04788738e-01],\n",
              "       [-1.97584694e-01,  8.86405260e-01, -1.07480385e+00,\n",
              "         1.70290785e-01, -3.04788738e-01],\n",
              "       [ 8.28829301e-01,  8.86405260e-01, -5.70003605e-01,\n",
              "        -3.55134563e-01, -3.04788738e-01],\n",
              "       [-7.10791692e-01, -1.12815215e+00, -1.49547071e+00,\n",
              "        -2.84083849e+00,  3.28096112e+00],\n",
              "       [-1.73720569e+00, -1.12815215e+00,  1.02853049e+00,\n",
              "        -2.58943785e-01, -3.04788738e-01],\n",
              "       [ 3.15622304e-01,  8.86405260e-01,  7.76130370e-01,\n",
              "         1.90212745e+00, -3.04788738e-01],\n",
              "       [-1.97584694e-01, -1.12815215e+00, -1.66373746e+00,\n",
              "         1.96732064e-01, -3.04788738e-01],\n",
              "       [ 8.28829301e-01,  8.86405260e-01,  1.11266386e+00,\n",
              "         2.99589086e-01, -3.04788738e-01],\n",
              "       [ 8.28829301e-01, -1.12815215e+00, -1.15893722e+00,\n",
              "         6.36704209e-01, -3.04788738e-01],\n",
              "       [-1.22399869e+00,  8.86405260e-01,  9.44397116e-01,\n",
              "         7.39919151e-01, -3.04788738e-01],\n",
              "       [ 1.85524330e+00,  8.86405260e-01, -2.33470111e-01,\n",
              "        -1.12457131e+00, -3.04788738e-01],\n",
              "       [ 8.28829301e-01, -1.12815215e+00, -1.24307059e+00,\n",
              "        -5.16645590e-01, -3.04788738e-01],\n",
              "       [-1.22399869e+00,  8.86405260e-01, -9.06537098e-01,\n",
              "        -1.77025034e-01, -3.04788738e-01],\n",
              "       [-1.97584694e-01, -1.12815215e+00, -1.32720397e+00,\n",
              "         2.68808037e-01, -3.04788738e-01],\n",
              "       [-1.97584694e-01,  8.86405260e-01, -6.52033644e-02,\n",
              "         8.84876416e-01, -3.04788738e-01],\n",
              "       [ 8.28829301e-01, -1.12815215e+00, -1.66373746e+00,\n",
              "         2.62902371e-01, -3.04788738e-01],\n",
              "       [ 8.28829301e-01, -1.12815215e+00, -6.54136978e-01,\n",
              "         2.02331709e-02, -3.04788738e-01],\n",
              "       [-1.97584694e-01,  8.86405260e-01, -9.06537098e-01,\n",
              "         4.28350509e-01,  3.28096112e+00],\n",
              "       [-1.97584694e-01,  8.86405260e-01,  2.71330129e-01,\n",
              "        -2.37244935e-01, -3.04788738e-01],\n",
              "       [-1.97584694e-01,  8.86405260e-01,  1.89300090e-02,\n",
              "        -4.07077583e-01, -3.04788738e-01],\n",
              "       [-1.97584694e-01, -1.12815215e+00, -3.17603485e-01,\n",
              "         5.77155406e-01, -3.04788738e-01],\n",
              "       [-1.73720569e+00,  8.86405260e-01, -1.32720397e+00,\n",
              "         5.28881057e-01, -3.04788738e-01],\n",
              "       [-1.73720569e+00, -1.12815215e+00,  9.44397116e-01,\n",
              "        -2.44850718e-01, -3.04788738e-01],\n",
              "       [ 3.15622304e-01, -1.12815215e+00,  2.71330129e-01,\n",
              "         1.58881395e+00, -3.04788738e-01],\n",
              "       [ 1.85524330e+00, -1.12815215e+00, -1.41133734e+00,\n",
              "        -1.22519134e+00, -3.04788738e-01],\n",
              "       [ 1.34203630e+00, -1.12815215e+00, -1.32720397e+00,\n",
              "         2.63976129e-01, -3.04788738e-01],\n",
              "       [ 3.15622304e-01,  8.86405260e-01,  3.55463503e-01,\n",
              "         1.22821038e+00, -3.04788738e-01],\n",
              "       [ 8.28829301e-01, -1.12815215e+00,  2.71330129e-01,\n",
              "        -5.52124329e-01, -3.04788738e-01]])"
            ]
          },
          "metadata": {
            "tags": []
          },
          "execution_count": 36
        }
      ]
    },
    {
      "cell_type": "markdown",
      "metadata": {
        "id": "WVdv0bwNOSeO"
      },
      "source": [
        "# Elbow Visualization"
      ]
    },
    {
      "cell_type": "code",
      "metadata": {
        "colab": {
          "base_uri": "https://localhost:8080/",
          "height": 294
        },
        "id": "--Vt2_l7N2YF",
        "outputId": "d452ef4e-6c20-4960-ea0d-941889732901"
      },
      "source": [
        "model = KMeans(random_state=0) \n",
        "visualizer = KElbowVisualizer(model, k=(2,9), metric='distortion')\n",
        "visualizer.fit(Data)    \n",
        "visualizer.poof()"
      ],
      "execution_count": null,
      "outputs": [
        {
          "output_type": "display_data",
          "data": {
            "image/png": "[encoded data removed]",
            "text/plain": [
              "<Figure size 432x288 with 2 Axes>"
            ]
          },
          "metadata": {
            "tags": []
          }
        }
      ]
    },
    {
      "cell_type": "markdown",
      "metadata": {
        "id": "ehJuxKb6OVwT"
      },
      "source": [
        "# 2D Plot Using PCA"
      ]
    },
    {
      "cell_type": "code",
      "metadata": {
        "colab": {
          "base_uri": "https://localhost:8080/",
          "height": 265
        },
        "id": "PTMMARooOCBL",
        "outputId": "2e6033ef-af17-493a-a635-3f32a0ee0db0"
      },
      "source": [
        "pca = PCA(2)\n",
        "df = pca.fit_transform(Data)\n",
        "kmeans = KMeans(n_clusters= 4)\n",
        "label = kmeans.fit_predict(df)\n",
        "centroids = kmeans.cluster_centers_\n",
        "filtered_label0 = df[label == 0]\n",
        "filtered_label1 = df[label == 1]\n",
        "filtered_label2 = df[label == 2]\n",
        "filtered_label3 = df[label == 3]\n",
        "plt.scatter(filtered_label0[:,0] , filtered_label0[:,1] , color = 'red')\n",
        "plt.scatter(filtered_label1[:,0] , filtered_label1[:,1] , color = 'yellow')\n",
        "plt.scatter(filtered_label2[:,0] , filtered_label2[:,1] , color = 'blue')\n",
        "plt.scatter(filtered_label3[:,0] , filtered_label3[:,1] , color = 'green')\n",
        "plt.scatter(centroids[:,0] , centroids[:,1] , s = 200, color = 'orange')\n",
        "plt.show()"
      ],
      "execution_count": null,
      "outputs": [
        {
          "output_type": "display_data",
          "data": {
            "image/png": "[encoded data removed]",
            "text/plain": [
              "<Figure size 432x288 with 1 Axes>"
            ]
          },
          "metadata": {
            "tags": [],
            "needs_background": "light"
          }
        }
      ]
    },
    {
      "cell_type": "code",
      "metadata": {
        "colab": {
          "base_uri": "https://localhost:8080/"
        },
        "id": "kG4-gTjOOejh",
        "outputId": "b466f9b9-d8da-47f1-f595-b081c828cace"
      },
      "source": [
        "score=[]\n",
        "for x in range(2,9):\n",
        "        kmeans = KMeans(n_clusters=x, random_state=0).fit(Data)\n",
        "        temp=silhouette_score(Data, kmeans.labels_,metric='euclidean')\n",
        "        score.append(temp)\n",
        "        print(\"Score of cluster \"+str(x)+\"=\"+str(temp))"
      ],
      "execution_count": null,
      "outputs": [
        {
          "output_type": "stream",
          "text": [
            "Score of cluster 2=0.23545825144061974\n",
            "Score of cluster 3=0.26027885689499053\n",
            "Score of cluster 4=0.28736620913661176\n",
            "Score of cluster 5=0.31666210938614414\n",
            "Score of cluster 6=0.3115530924795229\n",
            "Score of cluster 7=0.31361337697740843\n",
            "Score of cluster 8=0.3256521586549043\n"
          ],
          "name": "stdout"
        }
      ]
    }
  ]
}